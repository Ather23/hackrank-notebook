{
 "cells": [
  {
   "cell_type": "code",
   "execution_count": 2,
   "metadata": {},
   "outputs": [
    {
     "name": "stdout",
     "output_type": "stream",
     "text": [
      "3\n"
     ]
    }
   ],
   "source": [
    "\n",
    "import math\n",
    "import os\n",
    "import random\n",
    "import re\n",
    "import sys\n",
    "\n",
    "\n",
    "n = int(input())"
   ]
  },
  {
   "cell_type": "code",
   "execution_count": 46,
   "metadata": {},
   "outputs": [],
   "source": [
    "# Complete the staircase function below.\n",
    "def staircase(n):\n",
    "    for i in range(1,n+1):\n",
    "        stairs = build_stairs(i,n)\n",
    "        print(stairs)\n",
    "\n",
    "def build_stairs(n_stairs,n):\n",
    "    stairs =\"\"\n",
    "    for _ in range(0,n_stairs):\n",
    "        stairs = \"#\"+stairs\n",
    "        \n",
    "    for _ in range(0,n-n_stairs):\n",
    "        stairs =\" \"+stairs\n",
    "#         stairs = stairs+\" \"\n",
    "    \n",
    "    return stairs\n",
    "\n",
    "\n",
    "        \n",
    "        "
   ]
  },
  {
   "cell_type": "code",
   "execution_count": 47,
   "metadata": {},
   "outputs": [
    {
     "name": "stdout",
     "output_type": "stream",
     "text": [
      "|||#\n",
      "||##\n",
      "|###\n",
      "####\n"
     ]
    }
   ],
   "source": [
    "staircase(4)"
   ]
  },
  {
   "cell_type": "code",
   "execution_count": null,
   "metadata": {},
   "outputs": [],
   "source": []
  }
 ],
 "metadata": {
  "kernelspec": {
   "display_name": "Python 3",
   "language": "python",
   "name": "python3"
  },
  "language_info": {
   "codemirror_mode": {
    "name": "ipython",
    "version": 3
   },
   "file_extension": ".py",
   "mimetype": "text/x-python",
   "name": "python",
   "nbconvert_exporter": "python",
   "pygments_lexer": "ipython3",
   "version": "3.6.5"
  }
 },
 "nbformat": 4,
 "nbformat_minor": 2
}
