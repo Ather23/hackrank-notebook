{
 "cells": [
  {
   "cell_type": "code",
   "execution_count": 2,
   "metadata": {},
   "outputs": [
    {
     "name": "stdout",
     "output_type": "stream",
     "text": [
      "6\n",
      "-4 3 -9 0 4 1\n"
     ]
    }
   ],
   "source": [
    "import math\n",
    "import os\n",
    "import random\n",
    "import re\n",
    "import sys\n",
    "import unittest\n",
    "\n",
    "n = int(input())\n",
    "arr = list(map(int, input().rstrip().split()))"
   ]
  },
  {
   "cell_type": "code",
   "execution_count": 5,
   "metadata": {},
   "outputs": [],
   "source": [
    "# Complete the plusMinus function below.\n",
    "def plusMinus(arr):\n",
    "    arr_len = len(arr)\n",
    "    neg_count,pos_count,zero_count =0,0,0\n",
    "    for n in arr:\n",
    "        i = float(n)\n",
    "        if is_neg(i):\n",
    "            neg_count+=1\n",
    "        elif is_pos(i):\n",
    "            pos_count+=1\n",
    "        elif is_zero(i):\n",
    "            zero_count+=1\n",
    "    \n",
    "    print(float(pos_count/arr_len))\n",
    "    print(float(neg_count/arr_len))\n",
    "    print(float(zero_count/arr_len))\n",
    "        \n",
    "            \n",
    "def is_neg(num):\n",
    "    if num<0: return True\n",
    "    else: return False\n",
    "\n",
    "def is_pos(num):\n",
    "    if num>0: return True\n",
    "    else: return False\n",
    "    \n",
    "def is_zero(num):\n",
    "    if num==0: return True\n",
    "    else: return False"
   ]
  },
  {
   "cell_type": "code",
   "execution_count": 6,
   "metadata": {},
   "outputs": [
    {
     "name": "stdout",
     "output_type": "stream",
     "text": [
      "0.5\n",
      "0.3333333333333333\n",
      "0.16666666666666666\n"
     ]
    }
   ],
   "source": [
    "plusMinus(arr)"
   ]
  },
  {
   "cell_type": "code",
   "execution_count": null,
   "metadata": {},
   "outputs": [],
   "source": []
  },
  {
   "cell_type": "code",
   "execution_count": null,
   "metadata": {},
   "outputs": [],
   "source": []
  }
 ],
 "metadata": {
  "kernelspec": {
   "display_name": "Python 3",
   "language": "python",
   "name": "python3"
  },
  "language_info": {
   "codemirror_mode": {
    "name": "ipython",
    "version": 3
   },
   "file_extension": ".py",
   "mimetype": "text/x-python",
   "name": "python",
   "nbconvert_exporter": "python",
   "pygments_lexer": "ipython3",
   "version": "3.6.5"
  }
 },
 "nbformat": 4,
 "nbformat_minor": 2
}
